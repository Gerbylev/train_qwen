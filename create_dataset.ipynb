{
 "cells": [
  {
   "cell_type": "code",
   "execution_count": 1,
   "id": "fa684066-7092-41eb-bdb5-fdc31a7e3bbb",
   "metadata": {},
   "outputs": [
    {
     "name": "stdout",
     "output_type": "stream",
     "text": [
      "Defaulting to user installation because normal site-packages is not writeable\n",
      "Requirement already satisfied: pandas in /home/jupyter/.local/lib/python3.11/site-packages (2.2.3)\n",
      "Requirement already satisfied: numpy>=1.23.2 in /opt/conda/lib/python3.11/site-packages (from pandas) (1.26.4)\n",
      "Requirement already satisfied: python-dateutil>=2.8.2 in /opt/conda/lib/python3.11/site-packages (from pandas) (2.9.0.post0)\n",
      "Requirement already satisfied: pytz>=2020.1 in /opt/conda/lib/python3.11/site-packages (from pandas) (2024.2)\n",
      "Requirement already satisfied: tzdata>=2022.7 in /home/jupyter/.local/lib/python3.11/site-packages (from pandas) (2025.1)\n",
      "Requirement already satisfied: six>=1.5 in /opt/conda/lib/python3.11/site-packages (from python-dateutil>=2.8.2->pandas) (1.16.0)\n"
     ]
    }
   ],
   "source": [
    "!pip install pandas"
   ]
  },
  {
   "cell_type": "markdown",
   "id": "e117f837-05ff-4534-aef1-ad1040f69dc6",
   "metadata": {},
   "source": [
    "## Создание датасета\n",
    "\n",
    "Указываем для какой задачи создаём датасет\n",
    "\n",
    "\n",
    "Далее переводим наш датасет в следующий формат \n",
    "\n",
    "**Важно что бы json был следующего формата**\n",
    "```\n",
    "[\n",
    "  {\n",
    "    \"instruction\": str,\n",
    "    \"input\": str,\n",
    "    \"output\": str\n",
    "  },\n",
    "  ...\n",
    "]\n",
    "```\n"
   ]
  },
  {
   "cell_type": "code",
   "execution_count": 2,
   "id": "9811027f-fad4-4046-82d6-fc58b4172775",
   "metadata": {},
   "outputs": [],
   "source": [
    "task_description=\"matching\""
   ]
  },
  {
   "cell_type": "code",
   "execution_count": 3,
   "id": "f475eb54-af4e-4e3a-96f0-05e573f959bb",
   "metadata": {},
   "outputs": [],
   "source": [
    "from datetime import datetime\n",
    "import os\n",
    "\n",
    "timestamp = datetime.now().strftime(\"%Y-%m-%d %H:%M:%S\")\n",
    "output_dir = f'./data/{task_description}'\n",
    "os.makedirs(output_dir, exist_ok=True)"
   ]
  },
  {
   "cell_type": "code",
   "execution_count": 4,
   "id": "f7ceef0a-51db-408d-bc15-253188ca12cf",
   "metadata": {},
   "outputs": [
    {
     "name": "stdout",
     "output_type": "stream",
     "text": [
      "Датасет сохранён в файл: data/matching/data_2025-01-25 10:04:17.json\n"
     ]
    }
   ],
   "source": [
    "import pandas as pd\n",
    "import json\n",
    "\n",
    "# Чтение данных\n",
    "df = pd.read_csv('train_data.csv').dropna()\n",
    "\n",
    "# Форматирование данных\n",
    "formatted_data = []\n",
    "for _, row in df.iterrows():\n",
    "    input_text = row['input']\n",
    "    output_text = row['output']\n",
    "    if pd.notna(input_text) and pd.notna(output_text):\n",
    "        formatted_data.append({\n",
    "            \"instruction\": \"\",\n",
    "            \"input\": input_text,\n",
    "            \"output\": output_text\n",
    "        })\n",
    "\n",
    "# Сохранение датасета\n",
    "output_file = f'data/{task_description}/data_{timestamp}.json'\n",
    "with open(output_file, 'w', encoding='utf-8') as f:\n",
    "    json.dump(formatted_data, f, ensure_ascii=False, indent=2)\n",
    "\n",
    "print(f\"Датасет сохранён в файл: {output_file}\")"
   ]
  },
  {
   "cell_type": "markdown",
   "id": "da5dfab3-1fd3-4a3a-8b31-69248e640f9f",
   "metadata": {},
   "source": [
    "**Тут можно ни чего не трогать**\n",
    "\n",
    "**Название файла менять нельзя** dataset_info.json\n",
    "\n",
    "Если хотим можем удалить другие датасеты, но зачем?\n",
    "\n",
    "```\n",
    "{\n",
    "    \"dataset_name\": {\n",
    "        \"file_name\": str # Путь до файла\n",
    "    }\n",
    "}\n",
    "```"
   ]
  },
  {
   "cell_type": "code",
   "execution_count": 5,
   "id": "97c4c849-5e12-4a7c-ab00-631d22b898b5",
   "metadata": {},
   "outputs": [
    {
     "name": "stdout",
     "output_type": "stream",
     "text": [
      "{'matching': {'file_name': '/home/jupyter/workspace/data/matching/data_2025-01-25 10:04:17.json'}}\n"
     ]
    }
   ],
   "source": [
    "import os\n",
    "dataset_file_path = \"dataset_info.json\"\n",
    "if os.path.exists(dataset_file_path):\n",
    "    with open(dataset_file_path, 'r', encoding='utf-8') as dataset_file:\n",
    "        dataset_content = json.load(dataset_file)\n",
    "else:\n",
    "    dataset_content = {}\n",
    "\n",
    "dataset_content[task_description] = {\"file_name\": os.path.abspath(output_file)}\n",
    "\n",
    "print(dataset_content)\n",
    "\n",
    "with open('dataset_info.json', 'w', encoding='utf-8') as f:\n",
    "    json.dump(dataset_content, f, ensure_ascii=False, indent=2)"
   ]
  },
  {
   "cell_type": "code",
   "execution_count": null,
   "id": "f7ca2854-1ad9-441a-af22-f5212c63f755",
   "metadata": {},
   "outputs": [],
   "source": []
  }
 ],
 "metadata": {
  "kernelspec": {
   "display_name": "Python 3 (ipykernel)",
   "language": "python",
   "name": "python3"
  },
  "language_info": {
   "codemirror_mode": {
    "name": "ipython",
    "version": 3
   },
   "file_extension": ".py",
   "mimetype": "text/x-python",
   "name": "python",
   "nbconvert_exporter": "python",
   "pygments_lexer": "ipython3",
   "version": "3.11.10"
  }
 },
 "nbformat": 4,
 "nbformat_minor": 5
}
